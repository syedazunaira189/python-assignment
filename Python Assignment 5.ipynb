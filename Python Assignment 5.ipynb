{
 "cells": [
  {
   "cell_type": "code",
   "execution_count": 2,
   "metadata": {},
   "outputs": [
    {
     "name": "stdout",
     "output_type": "stream",
     "text": [
      "Enter Number : 6\n",
      "Factorial :  720\n"
     ]
    }
   ],
   "source": [
    "#Task 1\n",
    "def factorial(a):\n",
    "    for i in range(1,a):\n",
    "        a = a*i\n",
    "    return a\n",
    "print(\"Factorial : \",factorial(int(input(\"Enter Number : \"))))"
   ]
  },
  {
   "cell_type": "code",
   "execution_count": 3,
   "metadata": {},
   "outputs": [
    {
     "name": "stdout",
     "output_type": "stream",
     "text": [
      "Give A String To Evaluate : My Name IS Muhammad Ibrahim\n",
      "Number of Upper Case : 6\n",
      "Number of Lower Case : 21\n"
     ]
    }
   ],
   "source": [
    "#Task 2\n",
    "def evaluate(a):\n",
    "    upCase = 0\n",
    "    lowCase = 0\n",
    "    for char in a:\n",
    "        if(char.isupper()):\n",
    "            upCase +=1\n",
    "        else:\n",
    "            lowCase +=1\n",
    "    print(\"Number of Upper Case :\", up)\n",
    "    print(\"Number of Lower Case :\", low)\n",
    "evaluate(input(\"Give A String To Evaluate : \"))"
   ]
  },
  {
   "cell_type": "code",
   "execution_count": 7,
   "metadata": {},
   "outputs": [
    {
     "name": "stdout",
     "output_type": "stream",
     "text": [
      "No of Even Numbers in the list are : 5\n"
     ]
    }
   ],
   "source": [
    "#Task 3\n",
    "def Even_Counter(a_list):\n",
    "    even_Count = 0\n",
    "    for number in a_list:\n",
    "        if(number%2 == 0):\n",
    "            even_Count = even_Count + 1\n",
    "    print(\"No of Even Numbers in the list are :\",even_Count)\n",
    "listed = [2,4,6,8,10,11,13,15,17]\n",
    "Even_Counter(listed)"
   ]
  },
  {
   "cell_type": "code",
   "execution_count": 9,
   "metadata": {},
   "outputs": [
    {
     "name": "stdout",
     "output_type": "stream",
     "text": [
      "Enter a word for evaluation : racecar\n",
      "Given Word  racecar  is a Palindrome\n"
     ]
    }
   ],
   "source": [
    "#Task 4\n",
    "def isPalindrome(word):\n",
    "    word2 = word[::-1]\n",
    "    if(word == word2):\n",
    "        print(\"Given Word \", word ,\" is a Palindrome\")\n",
    "    else:\n",
    "        print(\"Given Word \", word ,\" is NOT a Palindrome\")\n",
    "isPalindrome(input(\"Enter a word for evaluation : \"))"
   ]
  },
  {
   "cell_type": "code",
   "execution_count": 10,
   "metadata": {},
   "outputs": [
    {
     "name": "stdout",
     "output_type": "stream",
     "text": [
      "Enter to Number : 7\n",
      "Given Number  7  is a Prime Number\n"
     ]
    }
   ],
   "source": [
    "#Task 5\n",
    "def isprime(number):\n",
    "    boolean = True;\n",
    "    for a in range(2,number-1):\n",
    "        if number % a == 0:\n",
    "            boolean = False\n",
    "            break\n",
    "    if boolean:\n",
    "        print(\"Given Number \", number ,\" is a Prime Number\")\n",
    "    else:\n",
    "        print(\"Given Number \", number ,\" is NOT a Prime Number\")\n",
    "isprime(int(input(\"Enter to Number : \")))"
   ]
  },
  {
   "cell_type": "code",
   "execution_count": 12,
   "metadata": {},
   "outputs": [
    {
     "name": "stdout",
     "output_type": "stream",
     "text": [
      "Items Bought by the user are \n",
      "Bounty\n",
      "Items Bought by the user are \n",
      "Gatorade\n",
      "Activade\n",
      "Items Bought by the user are \n",
      "Lays\n",
      "Pringles\n",
      "Kurkure\n",
      "Items Bought by the user are \n",
      "Dairy Milk\n",
      "Nutella\n",
      "Hersheys\n",
      "Kitkat\n"
     ]
    }
   ],
   "source": [
    "#Task 6\n",
    "def shopping_items(*listed):\n",
    "    print(\"Items Bought by the user are \")\n",
    "    for a in listed:\n",
    "        print(a)\n",
    "shopping_items(\"Bounty\")#single Argumnet\n",
    "shopping_items(\"Gatorade\", \"Activade\")#2 Arguments\n",
    "shopping_items(\"Lays\",\"Pringles\",\"Kurkure\")#3 Arguments\n",
    "shopping_items(\"Dairy Milk\",\"Nutella\",\"Hersheys\",\"Kitkat\")#4 Arguments"
   ]
  }
 ],
 "metadata": {
  "kernelspec": {
   "display_name": "Python 3",
   "language": "python",
   "name": "python3"
  },
  "language_info": {
   "codemirror_mode": {
    "name": "ipython",
    "version": 3
   },
   "file_extension": ".py",
   "mimetype": "text/x-python",
   "name": "python",
   "nbconvert_exporter": "python",
   "pygments_lexer": "ipython3",
   "version": "3.7.4"
  }
 },
 "nbformat": 4,
 "nbformat_minor": 2
}
