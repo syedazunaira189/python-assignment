{
 "cells": [
  {
   "cell_type": "code",
   "execution_count": 1,
   "metadata": {},
   "outputs": [
    {
     "name": "stdout",
     "output_type": "stream",
     "text": [
      "Numbers Less than 5 in the list are : \n",
      "1\n",
      "1\n",
      "2\n",
      "3\n"
     ]
    }
   ],
   "source": [
    "a = [1, 1, 2, 3, 5, 8, 13, 21, 34, 55, 89]\n",
    "print(\"Numbers Less than 5 in the list are : \")\n",
    "for i in range(len(a)):\n",
    "    if(a[i] < 5):\n",
    "        print(a[i])"
   ]
  },
  {
   "cell_type": "code",
   "execution_count": 2,
   "metadata": {},
   "outputs": [
    {
     "name": "stdout",
     "output_type": "stream",
     "text": [
      "NUMBERS LESS THAN 5 ARE =\n",
      "0\n",
      "4\n",
      "1.6\n",
      "3\n"
     ]
    }
   ],
   "source": [
    "NEW_LIST =[19,89,18,9,0,4,1.6,6,3]\n",
    "print(\"NUMBERS LESS THAN 5 ARE =\")\n",
    "for i in range(len(NEW_LIST)):\n",
    "    if(NEW_LIST[i]<5):\n",
    "        print(NEW_LIST[i])"
   ]
  },
  {
   "cell_type": "code",
   "execution_count": null,
   "metadata": {},
   "outputs": [],
   "source": []
  }
 ],
 "metadata": {
  "kernelspec": {
   "display_name": "Python 3",
   "language": "python",
   "name": "python3"
  },
  "language_info": {
   "codemirror_mode": {
    "name": "ipython",
    "version": 3
   },
   "file_extension": ".py",
   "mimetype": "text/x-python",
   "name": "python",
   "nbconvert_exporter": "python",
   "pygments_lexer": "ipython3",
   "version": "3.7.4"
  }
 },
 "nbformat": 4,
 "nbformat_minor": 2
}
