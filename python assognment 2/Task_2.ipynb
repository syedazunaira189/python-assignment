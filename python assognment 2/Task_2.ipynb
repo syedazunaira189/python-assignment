{
 "cells": [
  {
   "cell_type": "code",
   "execution_count": 3,
   "metadata": {},
   "outputs": [
    {
     "name": "stdout",
     "output_type": "stream",
     "text": [
      "ENTER ANY NUMBER : 103\n",
      "Given Number '103' is odd\n"
     ]
    }
   ],
   "source": [
    "num = int(input(\"ENTER ANY NUMBER : \"))\n",
    "if(num % 2 == 0):\n",
    "    print(\"Given Number '\" + str(num) + \"' is even\")\n",
    "else:\n",
    "    print(\"Given Number '\" + str(num) + \"' is odd\")"
   ]
  },
  {
   "cell_type": "code",
   "execution_count": null,
   "metadata": {},
   "outputs": [],
   "source": []
  }
 ],
 "metadata": {
  "kernelspec": {
   "display_name": "Python 3",
   "language": "python",
   "name": "python3"
  },
  "language_info": {
   "codemirror_mode": {
    "name": "ipython",
    "version": 3
   },
   "file_extension": ".py",
   "mimetype": "text/x-python",
   "name": "python",
   "nbconvert_exporter": "python",
   "pygments_lexer": "ipython3",
   "version": "3.7.4"
  }
 },
 "nbformat": 4,
 "nbformat_minor": 2
}
