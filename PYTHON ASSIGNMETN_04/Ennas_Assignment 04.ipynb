{
 "cells": [
  {
   "cell_type": "code",
   "execution_count": 8,
   "metadata": {},
   "outputs": [
    {
     "name": "stdout",
     "output_type": "stream",
     "text": [
      "Initial State : {'F_Name': 'Muhammad', 'L_Name': 'Bilal', 'Age': 18, 'City': 'Karachi'}\n",
      "Middle State : {'F_Name': 'Muhammad', 'L_Name': 'Bilal', 'Age': 18, 'City': 'Karachi', 'Qualification': 'Inremediate'}\n",
      "Second Last State : {'F_Name': 'Muhammad', 'L_Name': 'Bilal', 'Age': 18, 'City': 'Karachi', 'Qualification': 'BSCS'}\n",
      "Final State : {'F_Name': 'Muhammad', 'L_Name': 'Bilal', 'Age': 18, 'City': 'Karachi'}\n"
     ]
    }
   ],
   "source": [
    "#Question 1\n",
    "person = {\n",
    "    'F_Name' : 'Muhammad',\n",
    "    'L_Name' : 'Bilal',\n",
    "    'Age' : 18,\n",
    "    'City' : 'Karachi'\n",
    "}\n",
    "\n",
    "print (\"Initial State :\" ,person)\n",
    "person['Qualification'] = 'Inremediate'\n",
    "print (\"Middle State :\" ,person)\n",
    "person['Qualification'] = 'BSCS'\n",
    "print (\"Second Last State :\" ,person)\n",
    "del person['Qualification']\n",
    "print (\"Final State :\" ,person)"
   ]
  },
  {
   "cell_type": "code",
   "execution_count": 12,
   "metadata": {},
   "outputs": [
    {
     "name": "stdout",
     "output_type": "stream",
     "text": [
      "{'Karachi': {'Country': 'Pakistan', 'Population': '14.91 million (Census 2017)', 'Fact': 'Karachi is the fifth most populated city of the world'}, 'Paris': {'Country': 'France', 'Population': '2.141 million', 'Fact': 'It’s believed that Paris only has one stop sign in the entire city.'}, 'Madrid': {'Country': 'Spain', 'Population': '6.55 million (2018)', 'Fact': 'Madrid gets its name from the Arabic \"magerit\" which means place of many streams.'}}\n"
     ]
    }
   ],
   "source": [
    "#Question 2\n",
    "cities = {\n",
    "    'Karachi' : \n",
    "    {\n",
    "        'Country' : \"Pakistan\",\n",
    "        'Population' : '14.91 million (Census 2017)',\n",
    "        'Fact' : 'Karachi is the fifth most populated city of the world' \n",
    "    },\n",
    "    'Paris': \n",
    "    {\n",
    "        'Country' : 'France',\n",
    "        'Population' : '2.141 million',\n",
    "        'Fact': 'It’s believed that Paris only has one stop sign in the entire city.'\n",
    "    },\n",
    "    'Madrid' : \n",
    "    {\n",
    "        'Country' : 'Spain',\n",
    "        'Population' : '6.55 million (2018)',\n",
    "        'Fact' : 'Madrid gets its name from the Arabic \"magerit\" which means place of many streams.'\n",
    "    }\n",
    "}\n",
    "print(cities)"
   ]
  },
  {
   "cell_type": "code",
   "execution_count": 1,
   "metadata": {},
   "outputs": [
    {
     "name": "stdout",
     "output_type": "stream",
     "text": [
      "Enter Your Age : 3\n",
      "Your Ticket is free!, Enjoy the Movie\n",
      "\n",
      "Enter Your Age : 4\n",
      "Your Ticket Will Cost $10 only, Enjoy the Movie!\n",
      "\n",
      "Enter Your Age : 8\n",
      "Your Ticket Will Cost $10 only, Enjoy the Movie!\n",
      "\n",
      "Enter Your Age : 12\n",
      "Your Ticket Will Cost $10 only, Enjoy the Movie!\n",
      "\n",
      "Enter Your Age : 18\n",
      "Your Ticket Will Cost $15 only, Enjoy the Movie!\n",
      "\n"
     ]
    }
   ],
   "source": [
    "#Question 3\n",
    "for a in range(5):\n",
    "    age = int(input(\"Enter Your Age : \"))\n",
    "    if (age <= 3):\n",
    "        print(\"Your Ticket is free!, Enjoy the Movie\\n\")\n",
    "    elif age >3 and age <= 12:\n",
    "        print(\"Your Ticket Will Cost $10 only, Enjoy the Movie!\\n\")\n",
    "    else :\n",
    "        print(\"Your Ticket Will Cost $15 only, Enjoy the Movie!\\n\")"
   ]
  },
  {
   "cell_type": "code",
   "execution_count": 4,
   "metadata": {},
   "outputs": [
    {
     "name": "stdout",
     "output_type": "stream",
     "text": [
      "Enter Your Favourite Book : Harry Potter and the Cursed Child\n",
      "One of My Favourite Books is :  Harry Potter and the Cursed Child\n"
     ]
    }
   ],
   "source": [
    "#Question 4\n",
    "def Favourite_Book(Book_Name):\n",
    "    print(\"One of My Favourite Books is : \", Book_Name)\n",
    "Favourite_Book(input(\"Enter Your Favourite Book : \"))"
   ]
  },
  {
   "cell_type": "code",
   "execution_count": 2,
   "metadata": {},
   "outputs": [
    {
     "name": "stdout",
     "output_type": "stream",
     "text": [
      "Chance  1\n",
      "Guess the Random Number13\n",
      "The Random Number is less than the Guessed Number, Try Again\n",
      "Chance  2\n",
      "Guess the Random Number5\n",
      "The Random Number is greater than the Guessed Number, Try Again\n",
      "Chance  3\n",
      "Guess the Random Number8\n",
      "BRAVO!, You Guessed the Correct Number :)\n"
     ]
    }
   ],
   "source": [
    "#Question 5\n",
    "from random import randint\n",
    "number = randint(1, 30)\n",
    "for a in range(3):\n",
    "    print (\"Chance \" , a+1)\n",
    "    guess = int(input (\"Guess the Random Number\"))\n",
    "    if( guess == number):\n",
    "        print(\"BRAVO!, You Guessed the Correct Number :)\")\n",
    "        break\n",
    "    elif(guess > number):\n",
    "        print(\"The Random Number is less than the Guessed Number, Try Again\")\n",
    "    elif(guess < number):\n",
    "        print(\"The Random Number is greater than the Guessed Number, Try Again\")"
   ]
  }
 ],
 "metadata": {
  "kernelspec": {
   "display_name": "Python 3",
   "language": "python",
   "name": "python3"
  },
  "language_info": {
   "codemirror_mode": {
    "name": "ipython",
    "version": 3
   },
   "file_extension": ".py",
   "mimetype": "text/x-python",
   "name": "python",
   "nbconvert_exporter": "python",
   "pygments_lexer": "ipython3",
   "version": "3.7.4"
  }
 },
 "nbformat": 4,
 "nbformat_minor": 2
}
