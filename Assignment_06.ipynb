{
 "cells": [
  {
   "cell_type": "code",
   "execution_count": null,
   "metadata": {},
   "outputs": [],
   "source": [
    "#question no 1:\n",
    "Object-oriented language (OOL) is a high-level computer programming language that implements objects and their associated\n",
    "procedures within the programming context to create software programs.Object-oriented language uses an object-oriented\n",
    "programming technique that binds related data and functions into an object and encourages reuse of these objects within\n",
    "the same and other programs."
   ]
  },
  {
   "cell_type": "code",
   "execution_count": null,
   "metadata": {},
   "outputs": [],
   "source": [
    "#question no 2:\n",
    "BENEITS OF OOP:\n",
    "    1)Re-usability. It means reusing some facilities rather than building it again and again.\n",
    "    2)Data Redundancy. \n",
    "    3)Code Maintenance.\n",
    "    4)Security. \n",
    "    5)Design Benefits. \n",
    "    6)Better productivity. \n",
    "    7)Easy troubleshooting. \n",
    "    8)Polymorphism Flexibility."
   ]
  },
  {
   "cell_type": "code",
   "execution_count": null,
   "metadata": {},
   "outputs": [],
   "source": [
    "#question no 3:\n",
    "FUNCTION:\n",
    "A function is a piece of code that is called by name. It can be passed data to operate on (i.e. the parameters) and can \n",
    "optionally return data (the return value). All data that is passed to a function is explicitly passed.\n",
    "METHOD:\n",
    "A method is a piece of code that is called by a name that is associated with an object. In most respects it is identical\n",
    "to a function except for two key differences:"
   ]
  },
  {
   "cell_type": "code",
   "execution_count": null,
   "metadata": {},
   "outputs": [],
   "source": [
    "#quesion no 4:\n",
    "OBJECT :\n",
    "An object is the core unit of OOP. Objects are uniquely named and represent an instance of a class.Each object houses \n",
    "different states(attributes), and shared behaviors, called methods.Each object is an instance of a particular class or \n",
    "subclass with the class's own methods or procedures and data variables. An object is what actually runs in the computer.\n",
    "CLASSES:\n",
    "a class is a blueprint for creating objects (a particular data structure), providing initial values for state\n",
    "(member variables or attributes), and implementations of behavior (member functions or methods). The user-defined objects\n",
    "are created using the class keyword.\n",
    "ATTRIBUTES:\n",
    "An attribute is a quality or characteristic given to a person, group, or some other thing. For objects, an attribute is\n",
    "something that it 'is'.\n",
    "BEHAVIOR:\n",
    "The behavior of an object is defined by its methods, which are the functions and subroutines defined within the object\n",
    "class. Without class methods, a class would simply be a structure. Methods determine what type of functionality a class \n",
    "has, how it modifies its data, and its overall behavior."
   ]
  },
  {
   "cell_type": "code",
   "execution_count": 1,
   "metadata": {},
   "outputs": [
    {
     "name": "stdout",
     "output_type": "stream",
     "text": [
      "parado  land cruiser  mahraan  feilder  farari \n",
      "black blue  white  blue  grey \n"
     ]
    }
   ],
   "source": [
    "#question no 5:\n",
    "class car():\n",
    "    def _init_ (self,car_model,car_colour,car_name,car_price,car_numberplate) :\n",
    "         self.model=car_model\n",
    "         self.colour=car_colour\n",
    "         self.name=car_name\n",
    "         self.price=car_price\n",
    "         self.numberplate=car_numberplate\n",
    "    def car_names(self):\n",
    "        return f\"{self.name} \"\n",
    "    def car_color(self):\n",
    "        return f\"{self.colour}\"\n",
    "    \n",
    "car1= car()\n",
    "car2=car()\n",
    "car3=car()\n",
    "car4=car()\n",
    "car5=car()\n",
    "car1.model=2019\n",
    "car1.colour=\"black\"\n",
    "car1.name=\"parado\"\n",
    "car1.price=14000000\n",
    "car1.numberplate=\"kbr42\"\n",
    "car2=car()\n",
    "car2.model=2018\n",
    "car2.colour=\"blue \"\n",
    "car2.name=\"land cruiser\"\n",
    "car2.price=1500000\n",
    "car2.numberplate=\"79CRUZA\"\n",
    "car3=car()\n",
    "car3.model=2000\n",
    "car3.colour=\"white \"\n",
    "car3.name=\"mahraan\"\n",
    "car3.price=100000\n",
    "car3.numberplate=\"BRA36\"\n",
    "car4=car()\n",
    "car4.model=2016\n",
    "car4.colour=\"blue \"\n",
    "car4.name=\"feilder\"\n",
    "car4.price=1100000\n",
    "car4.numberplate=\"SAA39\"\n",
    "car5=car()\n",
    "car5.model=2011\n",
    "car5.colour=\"grey \"\n",
    "car5.name=\"farari\"\n",
    "car5.price=1700000\n",
    "car5.numberplate=\"ARA36\"\n",
    "print(car1.car_names(),car2.car_names(),car3.car_names(),car4.car_names(),car5.car_names())\n",
    "print(car1.car_color(),car2.car_color(),car3.car_color(),car4.car_color(),car5.car_color())"
   ]
  }
 ],
 "metadata": {
  "kernelspec": {
   "display_name": "Python 3",
   "language": "python",
   "name": "python3"
  },
  "language_info": {
   "codemirror_mode": {
    "name": "ipython",
    "version": 3
   },
   "file_extension": ".py",
   "mimetype": "text/x-python",
   "name": "python",
   "nbconvert_exporter": "python",
   "pygments_lexer": "ipython3",
   "version": "3.7.4"
  }
 },
 "nbformat": 4,
 "nbformat_minor": 2
}
